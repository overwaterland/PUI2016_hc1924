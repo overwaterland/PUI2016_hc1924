{
 "cells": [
  {
   "cell_type": "markdown",
   "metadata": {},
   "source": [
    "# Working with Data - Computer Lab for Guest Lecture Julia Lane\n",
    "\n",
    "In this computer lab we will learn more more details and practice data work to enhance the content of the lecture presented by Julia Lane on responsible data use. We will address a research question, think about data and measurement errors, and manipulate data. \n",
    "\n",
    "OUTLINE: \n",
    "1. Define a research question \n",
    "2. Think about what data are available \n",
    "3. Think about possible measurement errors \n",
    "4. Think about the interpretation of your results \n",
    "5. Inform your results by linking datasets "
   ]
  },
  {
   "cell_type": "markdown",
   "metadata": {
    "raw_mimetype": "text/markdown"
   },
   "source": [
    "# 1. Define a reserach question\n",
    "Which Community Districts in NYC show the highest number of complaints?\n",
    "\n",
    "# 2. Think about what data are available\n",
    "Find suitable data by searching the CUSP Data Catalog https://datahub.cusp.nyu.edu/catalog. You can use Urban Profiler to investigate the Metadata associated with each dataset. Using this tool will help you to decide which attributes of the data you need to answer your question so you don't have to load the entire dataset. "
   ]
  },
  {
   "cell_type": "code",
   "execution_count": 2,
   "metadata": {
    "collapsed": false
   },
   "outputs": [],
   "source": [
    "import os\n",
    "import pandas as pd\n",
    "import numpy as np\n",
    "import re\n",
    "PUIdata = os.getenv('PUIDATA')"
   ]
  },
  {
   "cell_type": "code",
   "execution_count": 3,
   "metadata": {
    "collapsed": false
   },
   "outputs": [],
   "source": [
    "# Load dataset\n",
    "data = pd.read_csv('/projects/open/NYCOpenData/nycopendata/data/erm2-nwe9/1446832678/erm2-nwe9', \n",
    "                   usecols = ['Borough', 'Complaint Type', 'Agency Name','Descriptor',\n",
    "                              'Community Board', 'Resolution Description'])"
   ]
  },
  {
   "cell_type": "code",
   "execution_count": 6,
   "metadata": {
    "collapsed": true
   },
   "outputs": [],
   "source": [
    "data1 = data"
   ]
  },
  {
   "cell_type": "code",
   "execution_count": 7,
   "metadata": {
    "collapsed": false
   },
   "outputs": [
    {
     "data": {
      "text/html": [
       "<div>\n",
       "<table border=\"1\" class=\"dataframe\">\n",
       "  <thead>\n",
       "    <tr style=\"text-align: right;\">\n",
       "      <th></th>\n",
       "      <th>Agency Name</th>\n",
       "      <th>Complaint Type</th>\n",
       "      <th>Descriptor</th>\n",
       "      <th>Resolution Description</th>\n",
       "      <th>Community Board</th>\n",
       "      <th>Borough</th>\n",
       "    </tr>\n",
       "  </thead>\n",
       "  <tbody>\n",
       "    <tr>\n",
       "      <th>0</th>\n",
       "      <td>Department of Transportation</td>\n",
       "      <td>Street Condition</td>\n",
       "      <td>Pothole</td>\n",
       "      <td>NaN</td>\n",
       "      <td>13 BROOKLYN</td>\n",
       "      <td>BROOKLYN</td>\n",
       "    </tr>\n",
       "    <tr>\n",
       "      <th>1</th>\n",
       "      <td>CHALL</td>\n",
       "      <td>Opinion for the Mayor</td>\n",
       "      <td>HOUSING</td>\n",
       "      <td>Your comments have been submitted to the Mayor...</td>\n",
       "      <td>0 Unspecified</td>\n",
       "      <td>Unspecified</td>\n",
       "    </tr>\n",
       "    <tr>\n",
       "      <th>2</th>\n",
       "      <td>Department of Parks and Recreation</td>\n",
       "      <td>Root/Sewer/Sidewalk Condition</td>\n",
       "      <td>Trees and Sidewalks Program</td>\n",
       "      <td>The Department of Parks and Recreation usually...</td>\n",
       "      <td>18 BROOKLYN</td>\n",
       "      <td>BROOKLYN</td>\n",
       "    </tr>\n",
       "    <tr>\n",
       "      <th>3</th>\n",
       "      <td>New York City Police Department</td>\n",
       "      <td>Illegal Parking</td>\n",
       "      <td>Blocked Hydrant</td>\n",
       "      <td>Your complaint has been received by the Police...</td>\n",
       "      <td>12 BROOKLYN</td>\n",
       "      <td>BROOKLYN</td>\n",
       "    </tr>\n",
       "    <tr>\n",
       "      <th>4</th>\n",
       "      <td>HRA Benefit Card Replacement</td>\n",
       "      <td>Benefit Card Replacement</td>\n",
       "      <td>Medicaid</td>\n",
       "      <td>The Human Resources Administration received yo...</td>\n",
       "      <td>0 Unspecified</td>\n",
       "      <td>Unspecified</td>\n",
       "    </tr>\n",
       "  </tbody>\n",
       "</table>\n",
       "</div>"
      ],
      "text/plain": [
       "                          Agency Name                 Complaint Type  \\\n",
       "0        Department of Transportation               Street Condition   \n",
       "1                               CHALL          Opinion for the Mayor   \n",
       "2  Department of Parks and Recreation  Root/Sewer/Sidewalk Condition   \n",
       "3     New York City Police Department                Illegal Parking   \n",
       "4        HRA Benefit Card Replacement       Benefit Card Replacement   \n",
       "\n",
       "                    Descriptor  \\\n",
       "0                      Pothole   \n",
       "1                      HOUSING   \n",
       "2  Trees and Sidewalks Program   \n",
       "3              Blocked Hydrant   \n",
       "4                     Medicaid   \n",
       "\n",
       "                              Resolution Description Community Board  \\\n",
       "0                                                NaN     13 BROOKLYN   \n",
       "1  Your comments have been submitted to the Mayor...   0 Unspecified   \n",
       "2  The Department of Parks and Recreation usually...     18 BROOKLYN   \n",
       "3  Your complaint has been received by the Police...     12 BROOKLYN   \n",
       "4  The Human Resources Administration received yo...   0 Unspecified   \n",
       "\n",
       "       Borough  \n",
       "0     BROOKLYN  \n",
       "1  Unspecified  \n",
       "2     BROOKLYN  \n",
       "3     BROOKLYN  \n",
       "4  Unspecified  "
      ]
     },
     "execution_count": 7,
     "metadata": {},
     "output_type": "execute_result"
    }
   ],
   "source": [
    "data.head()"
   ]
  },
  {
   "cell_type": "markdown",
   "metadata": {},
   "source": [
    "# 3. Think about possible measurement errors\n",
    "Do you see any problems regarding possible measurement error? Think about who is represented in the data, ommissions, duplications, content error, missing data, etc. "
   ]
  },
  {
   "cell_type": "code",
   "execution_count": 8,
   "metadata": {
    "collapsed": false
   },
   "outputs": [
    {
     "data": {
      "text/plain": [
       "array(['BROOKLYN', 'Unspecified', 'STATEN ISLAND', 'MANHATTAN', 'BRONX',\n",
       "       'QUEENS'], dtype=object)"
      ]
     },
     "execution_count": 8,
     "metadata": {},
     "output_type": "execute_result"
    }
   ],
   "source": [
    "# Check if all Boroughs and Community Districts are represented in the Data \n",
    "data['Borough'].unique()"
   ]
  },
  {
   "cell_type": "code",
   "execution_count": 9,
   "metadata": {
    "collapsed": false
   },
   "outputs": [
    {
     "data": {
      "text/plain": [
       "77"
      ]
     },
     "execution_count": 9,
     "metadata": {},
     "output_type": "execute_result"
    }
   ],
   "source": [
    "len(data['Community Board'].unique())"
   ]
  },
  {
   "cell_type": "code",
   "execution_count": 10,
   "metadata": {
    "collapsed": false,
    "scrolled": true
   },
   "outputs": [],
   "source": [
    "# How many unique values do we have? \n",
    "com_uni = data['Community Board'].unique()"
   ]
  },
  {
   "cell_type": "code",
   "execution_count": 11,
   "metadata": {
    "collapsed": false,
    "scrolled": true
   },
   "outputs": [
    {
     "data": {
      "text/plain": [
       "array(['13 BROOKLYN', '0 Unspecified', '18 BROOKLYN', '12 BROOKLYN',\n",
       "       '02 STATEN ISLAND', '08 MANHATTAN', '06 BROOKLYN', '10 BRONX',\n",
       "       '06 MANHATTAN', '04 BROOKLYN', '04 QUEENS', '09 MANHATTAN',\n",
       "       '14 BROOKLYN', '05 MANHATTAN', '02 MANHATTAN', '10 QUEENS',\n",
       "       '07 QUEENS', '02 QUEENS', '11 BROOKLYN', '05 QUEENS', '05 BROOKLYN',\n",
       "       '09 QUEENS', '12 MANHATTAN', '01 BROOKLYN', '11 MANHATTAN',\n",
       "       '03 BRONX', '03 STATEN ISLAND', '08 BROOKLYN', '03 BROOKLYN',\n",
       "       '07 MANHATTAN', '10 MANHATTAN', '04 BRONX', '01 MANHATTAN',\n",
       "       '07 BRONX', '09 BRONX', '03 MANHATTAN', '13 QUEENS', '02 BRONX',\n",
       "       '12 QUEENS', '16 BROOKLYN', '08 QUEENS', '04 MANHATTAN',\n",
       "       '14 QUEENS', '10 BROOKLYN', '11 QUEENS', '06 BRONX', '08 BRONX',\n",
       "       '05 BRONX', '15 BROOKLYN', '02 BROOKLYN', '12 BRONX', '03 QUEENS',\n",
       "       '06 QUEENS', '01 STATEN ISLAND', '01 BRONX', '01 QUEENS',\n",
       "       '17 BROOKLYN', '11 BRONX', 'Unspecified QUEENS', '09 BROOKLYN',\n",
       "       'Unspecified MANHATTAN', 'Unspecified BROOKLYN', '07 BROOKLYN',\n",
       "       'Unspecified BRONX', '64 MANHATTAN', '81 QUEENS', '55 BROOKLYN',\n",
       "       '83 QUEENS', 'Unspecified STATEN ISLAND', '28 BRONX', '80 QUEENS',\n",
       "       '26 BRONX', '95 STATEN ISLAND', '82 QUEENS', '27 BRONX',\n",
       "       '56 BROOKLYN', '84 QUEENS'], dtype=object)"
      ]
     },
     "execution_count": 11,
     "metadata": {},
     "output_type": "execute_result"
    }
   ],
   "source": [
    "com_uni"
   ]
  },
  {
   "cell_type": "code",
   "execution_count": 12,
   "metadata": {
    "collapsed": false
   },
   "outputs": [],
   "source": [
    "# Why do we have so many? Some of them are unspecified, missing. Some might be invalid entries. \n",
    "# We should have 59 Community Districts.\n",
    "index1 = [1, 58, 60, 61, 63, 64, 65, 66, 67, 68, 69, 70, 71, 72, 73, 74, 75, 76, 77]\n",
    "com_uni = np.delete(com_uni,index1)"
   ]
  },
  {
   "cell_type": "code",
   "execution_count": 32,
   "metadata": {
    "collapsed": false
   },
   "outputs": [
    {
     "data": {
      "text/plain": [
       "59"
      ]
     },
     "execution_count": 32,
     "metadata": {},
     "output_type": "execute_result"
    }
   ],
   "source": [
    "len(com_uni)"
   ]
  },
  {
   "cell_type": "code",
   "execution_count": 14,
   "metadata": {
    "collapsed": true
   },
   "outputs": [],
   "source": [
    "data['marker'] = 1"
   ]
  },
  {
   "cell_type": "code",
   "execution_count": 35,
   "metadata": {
    "collapsed": false
   },
   "outputs": [
    {
     "data": {
      "text/html": [
       "<div>\n",
       "<table border=\"1\" class=\"dataframe\">\n",
       "  <thead>\n",
       "    <tr style=\"text-align: right;\">\n",
       "      <th></th>\n",
       "      <th>Agency Name</th>\n",
       "      <th>Complaint Type</th>\n",
       "      <th>Descriptor</th>\n",
       "      <th>Resolution Description</th>\n",
       "      <th>Community Board</th>\n",
       "      <th>Borough</th>\n",
       "      <th>marker</th>\n",
       "    </tr>\n",
       "  </thead>\n",
       "  <tbody>\n",
       "    <tr>\n",
       "      <th>0</th>\n",
       "      <td>Department of Transportation</td>\n",
       "      <td>Street Condition</td>\n",
       "      <td>Pothole</td>\n",
       "      <td>NaN</td>\n",
       "      <td>13 BROOKLYN</td>\n",
       "      <td>BROOKLYN</td>\n",
       "      <td>1</td>\n",
       "    </tr>\n",
       "    <tr>\n",
       "      <th>1</th>\n",
       "      <td>CHALL</td>\n",
       "      <td>Opinion for the Mayor</td>\n",
       "      <td>HOUSING</td>\n",
       "      <td>Your comments have been submitted to the Mayor...</td>\n",
       "      <td>0 Unspecified</td>\n",
       "      <td>Unspecified</td>\n",
       "      <td>1</td>\n",
       "    </tr>\n",
       "    <tr>\n",
       "      <th>2</th>\n",
       "      <td>Department of Parks and Recreation</td>\n",
       "      <td>Root/Sewer/Sidewalk Condition</td>\n",
       "      <td>Trees and Sidewalks Program</td>\n",
       "      <td>The Department of Parks and Recreation usually...</td>\n",
       "      <td>18 BROOKLYN</td>\n",
       "      <td>BROOKLYN</td>\n",
       "      <td>1</td>\n",
       "    </tr>\n",
       "    <tr>\n",
       "      <th>3</th>\n",
       "      <td>New York City Police Department</td>\n",
       "      <td>Illegal Parking</td>\n",
       "      <td>Blocked Hydrant</td>\n",
       "      <td>Your complaint has been received by the Police...</td>\n",
       "      <td>12 BROOKLYN</td>\n",
       "      <td>BROOKLYN</td>\n",
       "      <td>1</td>\n",
       "    </tr>\n",
       "    <tr>\n",
       "      <th>4</th>\n",
       "      <td>HRA Benefit Card Replacement</td>\n",
       "      <td>Benefit Card Replacement</td>\n",
       "      <td>Medicaid</td>\n",
       "      <td>The Human Resources Administration received yo...</td>\n",
       "      <td>0 Unspecified</td>\n",
       "      <td>Unspecified</td>\n",
       "      <td>1</td>\n",
       "    </tr>\n",
       "  </tbody>\n",
       "</table>\n",
       "</div>"
      ],
      "text/plain": [
       "                          Agency Name                 Complaint Type  \\\n",
       "0        Department of Transportation               Street Condition   \n",
       "1                               CHALL          Opinion for the Mayor   \n",
       "2  Department of Parks and Recreation  Root/Sewer/Sidewalk Condition   \n",
       "3     New York City Police Department                Illegal Parking   \n",
       "4        HRA Benefit Card Replacement       Benefit Card Replacement   \n",
       "\n",
       "                    Descriptor  \\\n",
       "0                      Pothole   \n",
       "1                      HOUSING   \n",
       "2  Trees and Sidewalks Program   \n",
       "3              Blocked Hydrant   \n",
       "4                     Medicaid   \n",
       "\n",
       "                              Resolution Description Community Board  \\\n",
       "0                                                NaN     13 BROOKLYN   \n",
       "1  Your comments have been submitted to the Mayor...   0 Unspecified   \n",
       "2  The Department of Parks and Recreation usually...     18 BROOKLYN   \n",
       "3  Your complaint has been received by the Police...     12 BROOKLYN   \n",
       "4  The Human Resources Administration received yo...   0 Unspecified   \n",
       "\n",
       "       Borough  marker  \n",
       "0     BROOKLYN       1  \n",
       "1  Unspecified       1  \n",
       "2     BROOKLYN       1  \n",
       "3     BROOKLYN       1  \n",
       "4  Unspecified       1  "
      ]
     },
     "execution_count": 35,
     "metadata": {},
     "output_type": "execute_result"
    }
   ],
   "source": [
    "data1.head()"
   ]
  },
  {
   "cell_type": "code",
   "execution_count": 48,
   "metadata": {
    "collapsed": true
   },
   "outputs": [],
   "source": [
    "mark = []"
   ]
  },
  {
   "cell_type": "code",
   "execution_count": null,
   "metadata": {
    "collapsed": false
   },
   "outputs": [],
   "source": [
    "for i in range(len(data)):\n",
    "    if data.iloc[i]['Community Board'] not in com_uni:\n",
    "        mark.append(0)\n",
    "    else:\n",
    "        mark.append(1)"
   ]
  },
  {
   "cell_type": "code",
   "execution_count": null,
   "metadata": {
    "collapsed": true
   },
   "outputs": [],
   "source": [
    "data[\"marker\"] = np.array(mark)"
   ]
  },
  {
   "cell_type": "code",
   "execution_count": null,
   "metadata": {
    "collapsed": true
   },
   "outputs": [],
   "source": [
    "data_valid = data[data.marker == 1]"
   ]
  },
  {
   "cell_type": "code",
   "execution_count": null,
   "metadata": {
    "collapsed": true
   },
   "outputs": [],
   "source": [
    "len(data['Community Board'].unique())"
   ]
  },
  {
   "cell_type": "code",
   "execution_count": null,
   "metadata": {
    "collapsed": true
   },
   "outputs": [],
   "source": [
    "df_sample = data.groupby('Community Board').count()\n",
    "df_sample = com_count[\"Complaint Type\"]\n",
    "df_sample.columns = ['Complaint Counts']\n",
    "df_sample.head()"
   ]
  },
  {
   "cell_type": "markdown",
   "metadata": {},
   "source": [
    "# 4. Think about the interpretation of your results?\n",
    "What do you have to keep in mind when interpreting your results? Are they generable? Does the way the data is collected influence your results? To better inform city agancies it might be good to explore in more detail the underlying dempgraphics/infrastructure of a Community District becasue this might influence 311 calls. You can do this by merging external data on the Community District level to your analysis data. "
   ]
  },
  {
   "cell_type": "code",
   "execution_count": 4,
   "metadata": {
    "collapsed": false
   },
   "outputs": [],
   "source": [
    "# Population by Community District\n",
    "df_pop = pd.read_csv(\"http://cosmo.nyu.edu/~fb55/PUI2016/data/Final_Demographics.csv\")"
   ]
  },
  {
   "cell_type": "code",
   "execution_count": 5,
   "metadata": {
    "collapsed": false
   },
   "outputs": [
    {
     "data": {
      "text/html": [
       "<div>\n",
       "<table border=\"1\" class=\"dataframe\">\n",
       "  <thead>\n",
       "    <tr style=\"text-align: right;\">\n",
       "      <th></th>\n",
       "      <th>FIPS</th>\n",
       "      <th>cd_id</th>\n",
       "      <th>Total Population</th>\n",
       "      <th>Population Density (per sq. mile)</th>\n",
       "      <th>% Total Population: Male</th>\n",
       "      <th>% Total Population: 18 to 24 Years</th>\n",
       "      <th>% Total Population: 25 to 34 Years</th>\n",
       "      <th>% Total Population: 35 to 44 Years</th>\n",
       "      <th>% Population 5 Years And Over: Speak Only English</th>\n",
       "      <th>% Population 5 Years And Over: Spanish or Spanish Creole</th>\n",
       "      <th>...</th>\n",
       "      <th>Employed Civilian Population 16 Years And Over: Production, transportation, and material moving  occupations: Production occupations</th>\n",
       "      <th>Employed Civilian Population 16 Years And Over: Production, transportation, and material moving  occupations: Transportation and material moving occupations</th>\n",
       "      <th>% Employed Civilian Population 16 Years And Over: Management, professional, and related occupations</th>\n",
       "      <th>% Employed Civilian Population 16 Years And Over: Service occupations</th>\n",
       "      <th>% Employed Civilian Population 16 Years And Over: Sales and office occupations</th>\n",
       "      <th>% Employed Civilian Population 16 Years And Over: Farming, fishing, and forestry occupations</th>\n",
       "      <th>% Employed Civilian Population 16 Years And Over: Construction, extraction, and maintenance  occupations</th>\n",
       "      <th>% Employed Civilian Population 16 Years And Over: Production, transportation, and material moving  occupations</th>\n",
       "      <th>% Employed Civilian Population 16 Years And Over: Production, transportation, and material moving  occupations: Production occupations</th>\n",
       "      <th>% Employed Civilian Population 16 Years And Over: Production, transportation, and material moving  occupations: Transportation and material moving occupations</th>\n",
       "    </tr>\n",
       "  </thead>\n",
       "  <tbody>\n",
       "    <tr>\n",
       "      <th>0</th>\n",
       "      <td>3603701</td>\n",
       "      <td>BX08</td>\n",
       "      <td>106737</td>\n",
       "      <td>31229.95006</td>\n",
       "      <td>46.65</td>\n",
       "      <td>10.73</td>\n",
       "      <td>15.04</td>\n",
       "      <td>11.32</td>\n",
       "      <td>46.80</td>\n",
       "      <td>39.24</td>\n",
       "      <td>...</td>\n",
       "      <td>665</td>\n",
       "      <td>1518</td>\n",
       "      <td>42.66</td>\n",
       "      <td>28.95</td>\n",
       "      <td>20.89</td>\n",
       "      <td>0.24</td>\n",
       "      <td>2.65</td>\n",
       "      <td>4.60</td>\n",
       "      <td>1.40</td>\n",
       "      <td>3.20</td>\n",
       "    </tr>\n",
       "    <tr>\n",
       "      <th>1</th>\n",
       "      <td>3603702</td>\n",
       "      <td>BX12</td>\n",
       "      <td>134644</td>\n",
       "      <td>19966.67839</td>\n",
       "      <td>46.35</td>\n",
       "      <td>11.35</td>\n",
       "      <td>14.29</td>\n",
       "      <td>12.57</td>\n",
       "      <td>73.09</td>\n",
       "      <td>18.19</td>\n",
       "      <td>...</td>\n",
       "      <td>1156</td>\n",
       "      <td>4174</td>\n",
       "      <td>29.57</td>\n",
       "      <td>33.98</td>\n",
       "      <td>20.40</td>\n",
       "      <td>0.00</td>\n",
       "      <td>7.08</td>\n",
       "      <td>8.97</td>\n",
       "      <td>1.95</td>\n",
       "      <td>7.02</td>\n",
       "    </tr>\n",
       "    <tr>\n",
       "      <th>2</th>\n",
       "      <td>3603703</td>\n",
       "      <td>BX10</td>\n",
       "      <td>121209</td>\n",
       "      <td>12913.81703</td>\n",
       "      <td>45.20</td>\n",
       "      <td>8.62</td>\n",
       "      <td>13.74</td>\n",
       "      <td>12.78</td>\n",
       "      <td>61.79</td>\n",
       "      <td>26.43</td>\n",
       "      <td>...</td>\n",
       "      <td>941</td>\n",
       "      <td>3433</td>\n",
       "      <td>36.20</td>\n",
       "      <td>22.85</td>\n",
       "      <td>25.09</td>\n",
       "      <td>0.00</td>\n",
       "      <td>7.68</td>\n",
       "      <td>8.18</td>\n",
       "      <td>1.76</td>\n",
       "      <td>6.42</td>\n",
       "    </tr>\n",
       "    <tr>\n",
       "      <th>3</th>\n",
       "      <td>3603704</td>\n",
       "      <td>BX11</td>\n",
       "      <td>135839</td>\n",
       "      <td>35677.95453</td>\n",
       "      <td>50.09</td>\n",
       "      <td>8.10</td>\n",
       "      <td>17.43</td>\n",
       "      <td>14.09</td>\n",
       "      <td>43.22</td>\n",
       "      <td>36.45</td>\n",
       "      <td>...</td>\n",
       "      <td>2189</td>\n",
       "      <td>5592</td>\n",
       "      <td>30.06</td>\n",
       "      <td>27.86</td>\n",
       "      <td>22.24</td>\n",
       "      <td>0.00</td>\n",
       "      <td>7.03</td>\n",
       "      <td>12.81</td>\n",
       "      <td>3.60</td>\n",
       "      <td>9.20</td>\n",
       "    </tr>\n",
       "    <tr>\n",
       "      <th>4</th>\n",
       "      <td>3603705</td>\n",
       "      <td>BX03</td>\n",
       "      <td>172247</td>\n",
       "      <td>39405.79222</td>\n",
       "      <td>44.72</td>\n",
       "      <td>14.24</td>\n",
       "      <td>14.89</td>\n",
       "      <td>12.38</td>\n",
       "      <td>36.82</td>\n",
       "      <td>54.24</td>\n",
       "      <td>...</td>\n",
       "      <td>1437</td>\n",
       "      <td>5436</td>\n",
       "      <td>16.80</td>\n",
       "      <td>41.00</td>\n",
       "      <td>22.29</td>\n",
       "      <td>0.03</td>\n",
       "      <td>8.45</td>\n",
       "      <td>11.43</td>\n",
       "      <td>2.39</td>\n",
       "      <td>9.04</td>\n",
       "    </tr>\n",
       "  </tbody>\n",
       "</table>\n",
       "<p>5 rows × 158 columns</p>\n",
       "</div>"
      ],
      "text/plain": [
       "      FIPS cd_id  Total Population  Population Density (per sq. mile)  \\\n",
       "0  3603701  BX08            106737                        31229.95006   \n",
       "1  3603702  BX12            134644                        19966.67839   \n",
       "2  3603703  BX10            121209                        12913.81703   \n",
       "3  3603704  BX11            135839                        35677.95453   \n",
       "4  3603705  BX03            172247                        39405.79222   \n",
       "\n",
       "   % Total Population: Male  % Total Population: 18 to 24 Years  \\\n",
       "0                     46.65                               10.73   \n",
       "1                     46.35                               11.35   \n",
       "2                     45.20                                8.62   \n",
       "3                     50.09                                8.10   \n",
       "4                     44.72                               14.24   \n",
       "\n",
       "   % Total Population: 25 to 34 Years  % Total Population: 35 to 44 Years  \\\n",
       "0                               15.04                               11.32   \n",
       "1                               14.29                               12.57   \n",
       "2                               13.74                               12.78   \n",
       "3                               17.43                               14.09   \n",
       "4                               14.89                               12.38   \n",
       "\n",
       "   % Population 5 Years And Over: Speak Only English  \\\n",
       "0                                              46.80   \n",
       "1                                              73.09   \n",
       "2                                              61.79   \n",
       "3                                              43.22   \n",
       "4                                              36.82   \n",
       "\n",
       "   % Population 5 Years And Over: Spanish or Spanish Creole  \\\n",
       "0                                              39.24          \n",
       "1                                              18.19          \n",
       "2                                              26.43          \n",
       "3                                              36.45          \n",
       "4                                              54.24          \n",
       "\n",
       "                                                                                ...                                                                                \\\n",
       "0                                                                               ...                                                                                 \n",
       "1                                                                               ...                                                                                 \n",
       "2                                                                               ...                                                                                 \n",
       "3                                                                               ...                                                                                 \n",
       "4                                                                               ...                                                                                 \n",
       "\n",
       "   Employed Civilian Population 16 Years And Over: Production, transportation, and material moving  occupations: Production occupations  \\\n",
       "0                                                665                                                                                      \n",
       "1                                               1156                                                                                      \n",
       "2                                                941                                                                                      \n",
       "3                                               2189                                                                                      \n",
       "4                                               1437                                                                                      \n",
       "\n",
       "   Employed Civilian Population 16 Years And Over: Production, transportation, and material moving  occupations: Transportation and material moving occupations  \\\n",
       "0                                               1518                                                                                                              \n",
       "1                                               4174                                                                                                              \n",
       "2                                               3433                                                                                                              \n",
       "3                                               5592                                                                                                              \n",
       "4                                               5436                                                                                                              \n",
       "\n",
       "   % Employed Civilian Population 16 Years And Over: Management, professional, and related occupations  \\\n",
       "0                                              42.66                                                     \n",
       "1                                              29.57                                                     \n",
       "2                                              36.20                                                     \n",
       "3                                              30.06                                                     \n",
       "4                                              16.80                                                     \n",
       "\n",
       "   % Employed Civilian Population 16 Years And Over: Service occupations  \\\n",
       "0                                              28.95                       \n",
       "1                                              33.98                       \n",
       "2                                              22.85                       \n",
       "3                                              27.86                       \n",
       "4                                              41.00                       \n",
       "\n",
       "   % Employed Civilian Population 16 Years And Over: Sales and office occupations  \\\n",
       "0                                              20.89                                \n",
       "1                                              20.40                                \n",
       "2                                              25.09                                \n",
       "3                                              22.24                                \n",
       "4                                              22.29                                \n",
       "\n",
       "   % Employed Civilian Population 16 Years And Over: Farming, fishing, and forestry occupations  \\\n",
       "0                                               0.24                                              \n",
       "1                                               0.00                                              \n",
       "2                                               0.00                                              \n",
       "3                                               0.00                                              \n",
       "4                                               0.03                                              \n",
       "\n",
       "   % Employed Civilian Population 16 Years And Over: Construction, extraction, and maintenance  occupations  \\\n",
       "0                                               2.65                                                          \n",
       "1                                               7.08                                                          \n",
       "2                                               7.68                                                          \n",
       "3                                               7.03                                                          \n",
       "4                                               8.45                                                          \n",
       "\n",
       "   % Employed Civilian Population 16 Years And Over: Production, transportation, and material moving  occupations  \\\n",
       "0                                               4.60                                                                \n",
       "1                                               8.97                                                                \n",
       "2                                               8.18                                                                \n",
       "3                                              12.81                                                                \n",
       "4                                              11.43                                                                \n",
       "\n",
       "   % Employed Civilian Population 16 Years And Over: Production, transportation, and material moving  occupations: Production occupations  \\\n",
       "0                                               1.40                                                                                        \n",
       "1                                               1.95                                                                                        \n",
       "2                                               1.76                                                                                        \n",
       "3                                               3.60                                                                                        \n",
       "4                                               2.39                                                                                        \n",
       "\n",
       "   % Employed Civilian Population 16 Years And Over: Production, transportation, and material moving  occupations: Transportation and material moving occupations  \n",
       "0                                               3.20                                                                                                               \n",
       "1                                               7.02                                                                                                               \n",
       "2                                               6.42                                                                                                               \n",
       "3                                               9.20                                                                                                               \n",
       "4                                               9.04                                                                                                               \n",
       "\n",
       "[5 rows x 158 columns]"
      ]
     },
     "execution_count": 5,
     "metadata": {},
     "output_type": "execute_result"
    }
   ],
   "source": [
    "df_pop.head()"
   ]
  },
  {
   "cell_type": "code",
   "execution_count": 15,
   "metadata": {
    "collapsed": false
   },
   "outputs": [
    {
     "data": {
      "text/plain": [
       "Index([u'FIPS', u'cd_id', u'Total Population',\n",
       "       u'Population Density (per sq. mile)', u'% Total Population: Male',\n",
       "       u'% Total Population: 18 to 24 Years',\n",
       "       u'% Total Population: 25 to 34 Years',\n",
       "       u'% Total Population: 35 to 44 Years',\n",
       "       u'% Population 5 Years And Over: Speak Only English',\n",
       "       u'% Population 5 Years And Over: Spanish or Spanish Creole',\n",
       "       ...\n",
       "       u'Employed Civilian Population 16 Years And Over: Production, transportation, and material moving  occupations: Production occupations',\n",
       "       u'Employed Civilian Population 16 Years And Over: Production, transportation, and material moving  occupations: Transportation and material moving occupations',\n",
       "       u'% Employed Civilian Population 16 Years And Over: Management, professional, and related occupations',\n",
       "       u'% Employed Civilian Population 16 Years And Over: Service occupations',\n",
       "       u'% Employed Civilian Population 16 Years And Over: Sales and office occupations',\n",
       "       u'% Employed Civilian Population 16 Years And Over: Farming, fishing, and forestry occupations',\n",
       "       u'% Employed Civilian Population 16 Years And Over: Construction, extraction, and maintenance  occupations',\n",
       "       u'% Employed Civilian Population 16 Years And Over: Production, transportation, and material moving  occupations',\n",
       "       u'% Employed Civilian Population 16 Years And Over: Production, transportation, and material moving  occupations: Production occupations',\n",
       "       u'% Employed Civilian Population 16 Years And Over: Production, transportation, and material moving  occupations: Transportation and material moving occupations'],\n",
       "      dtype='object', length=158)"
      ]
     },
     "execution_count": 15,
     "metadata": {},
     "output_type": "execute_result"
    }
   ],
   "source": [
    "# Check variables in file\n",
    "df_pop.columns"
   ]
  },
  {
   "cell_type": "code",
   "execution_count": 16,
   "metadata": {
    "collapsed": false
   },
   "outputs": [
    {
     "data": {
      "text/plain": [
       "59"
      ]
     },
     "execution_count": 16,
     "metadata": {},
     "output_type": "execute_result"
    }
   ],
   "source": [
    "# How many community districts are in file? \n",
    "len(df_pop['cd_id'].unique())"
   ]
  },
  {
   "cell_type": "code",
   "execution_count": 17,
   "metadata": {
    "collapsed": true
   },
   "outputs": [],
   "source": [
    "# Manipulate data to get some information on demographics by Community District. \n",
    "# Think about who might be more likely to call 311\n",
    "df_pop['higher_edu'] = df_pop[\"Population 25 Years and over: Master's degree\"] + \\\n",
    "                       df_pop[\"Population 25 Years and over: Professional school degree\"] + \\\n",
    "                       df_pop[\"Population 25 Years and over: Doctorate degree\"] "
   ]
  },
  {
   "cell_type": "code",
   "execution_count": 19,
   "metadata": {
    "collapsed": false
   },
   "outputs": [
    {
     "data": {
      "text/html": [
       "<div>\n",
       "<table border=\"1\" class=\"dataframe\">\n",
       "  <thead>\n",
       "    <tr style=\"text-align: right;\">\n",
       "      <th></th>\n",
       "      <th>cd_id</th>\n",
       "      <th>Total Population</th>\n",
       "      <th>higher_edu</th>\n",
       "      <th>% Total Population: Male</th>\n",
       "      <th>Median household income (In 2014 Inflation Adjusted Dollars)</th>\n",
       "    </tr>\n",
       "  </thead>\n",
       "  <tbody>\n",
       "    <tr>\n",
       "      <th>0</th>\n",
       "      <td>BX08</td>\n",
       "      <td>106737</td>\n",
       "      <td>13421</td>\n",
       "      <td>46.65</td>\n",
       "      <td>54224</td>\n",
       "    </tr>\n",
       "    <tr>\n",
       "      <th>1</th>\n",
       "      <td>BX12</td>\n",
       "      <td>134644</td>\n",
       "      <td>5466</td>\n",
       "      <td>46.35</td>\n",
       "      <td>44906</td>\n",
       "    </tr>\n",
       "    <tr>\n",
       "      <th>2</th>\n",
       "      <td>BX10</td>\n",
       "      <td>121209</td>\n",
       "      <td>8959</td>\n",
       "      <td>45.20</td>\n",
       "      <td>54962</td>\n",
       "    </tr>\n",
       "    <tr>\n",
       "      <th>3</th>\n",
       "      <td>BX11</td>\n",
       "      <td>135839</td>\n",
       "      <td>10174</td>\n",
       "      <td>50.09</td>\n",
       "      <td>47910</td>\n",
       "    </tr>\n",
       "    <tr>\n",
       "      <th>4</th>\n",
       "      <td>BX03</td>\n",
       "      <td>172247</td>\n",
       "      <td>3781</td>\n",
       "      <td>44.72</td>\n",
       "      <td>22041</td>\n",
       "    </tr>\n",
       "  </tbody>\n",
       "</table>\n",
       "</div>"
      ],
      "text/plain": [
       "  cd_id  Total Population  higher_edu  % Total Population: Male  \\\n",
       "0  BX08            106737       13421                     46.65   \n",
       "1  BX12            134644        5466                     46.35   \n",
       "2  BX10            121209        8959                     45.20   \n",
       "3  BX11            135839       10174                     50.09   \n",
       "4  BX03            172247        3781                     44.72   \n",
       "\n",
       "   Median household income (In 2014 Inflation Adjusted Dollars)  \n",
       "0                                              54224             \n",
       "1                                              44906             \n",
       "2                                              54962             \n",
       "3                                              47910             \n",
       "4                                              22041             "
      ]
     },
     "execution_count": 19,
     "metadata": {},
     "output_type": "execute_result"
    }
   ],
   "source": [
    "# Save data frame\n",
    "df_pop = df_pop[['cd_id', 'Total Population', 'higher_edu', '% Total Population: Male', \n",
    "                 'Median household income (In 2014 Inflation Adjusted Dollars)']]\n",
    "df_pop.head()"
   ]
  },
  {
   "cell_type": "code",
   "execution_count": 20,
   "metadata": {
    "collapsed": false
   },
   "outputs": [],
   "source": [
    "# Infrastructure by Community District\n",
    "df_infr = pd.read_csv(\"http://cosmo.nyu.edu/~fb55/PUI2016/data/ACS_Computer_Use_and_Internet_2014_1Year_Estimate.csv\")"
   ]
  },
  {
   "cell_type": "code",
   "execution_count": 21,
   "metadata": {
    "collapsed": false
   },
   "outputs": [
    {
     "data": {
      "text/html": [
       "<div>\n",
       "<table border=\"1\" class=\"dataframe\">\n",
       "  <thead>\n",
       "    <tr style=\"text-align: right;\">\n",
       "      <th></th>\n",
       "      <th>FIPS</th>\n",
       "      <th>Geographic Identifier</th>\n",
       "      <th>Qualifying Name</th>\n",
       "      <th>Households</th>\n",
       "      <th>Households: With An Internet Subscription</th>\n",
       "      <th>Households: Dial-Up Alone</th>\n",
       "      <th>Households: Dsl</th>\n",
       "      <th>Households: With Mobile Broadband</th>\n",
       "      <th>Households: Without Mobile Broadband</th>\n",
       "      <th>Households: Cable Modem</th>\n",
       "      <th>...</th>\n",
       "      <th>Households: Mobile Broadband Alone or With Dialup</th>\n",
       "      <th>Households: Internet Access Without A Subscription</th>\n",
       "      <th>Households: No Internet Access</th>\n",
       "      <th>% Households: With An Internet Subscription</th>\n",
       "      <th>Households.1</th>\n",
       "      <th>Households: Has A Computer</th>\n",
       "      <th>Households: With Dial-Up Internet Subscription Alone</th>\n",
       "      <th>Households: With A Broadband Internet Subscription</th>\n",
       "      <th>Households: Without An Internet Subscription</th>\n",
       "      <th>Households: No Computer</th>\n",
       "    </tr>\n",
       "  </thead>\n",
       "  <tbody>\n",
       "    <tr>\n",
       "      <th>0</th>\n",
       "      <td>3603701</td>\n",
       "      <td>79500US3603701</td>\n",
       "      <td>NYC-Bronx Community District 8--Riverdale, New...</td>\n",
       "      <td>42035</td>\n",
       "      <td>31795</td>\n",
       "      <td>444</td>\n",
       "      <td>2813</td>\n",
       "      <td>946</td>\n",
       "      <td>1867</td>\n",
       "      <td>19178</td>\n",
       "      <td>...</td>\n",
       "      <td>2168</td>\n",
       "      <td>2119</td>\n",
       "      <td>8121</td>\n",
       "      <td>75.64</td>\n",
       "      <td>42035</td>\n",
       "      <td>35048</td>\n",
       "      <td>404</td>\n",
       "      <td>30943</td>\n",
       "      <td>3701</td>\n",
       "      <td>6987</td>\n",
       "    </tr>\n",
       "    <tr>\n",
       "      <th>1</th>\n",
       "      <td>3603702</td>\n",
       "      <td>79500US3603702</td>\n",
       "      <td>NYC-Bronx Community District 12--Wakefield, Ne...</td>\n",
       "      <td>44830</td>\n",
       "      <td>32243</td>\n",
       "      <td>178</td>\n",
       "      <td>849</td>\n",
       "      <td>405</td>\n",
       "      <td>444</td>\n",
       "      <td>18653</td>\n",
       "      <td>...</td>\n",
       "      <td>928</td>\n",
       "      <td>1891</td>\n",
       "      <td>10696</td>\n",
       "      <td>71.92</td>\n",
       "      <td>44830</td>\n",
       "      <td>36700</td>\n",
       "      <td>178</td>\n",
       "      <td>31435</td>\n",
       "      <td>5087</td>\n",
       "      <td>8130</td>\n",
       "    </tr>\n",
       "    <tr>\n",
       "      <th>2</th>\n",
       "      <td>3603703</td>\n",
       "      <td>79500US3603703</td>\n",
       "      <td>NYC-Bronx Community District 10--Co-op City, N...</td>\n",
       "      <td>47050</td>\n",
       "      <td>32729</td>\n",
       "      <td>158</td>\n",
       "      <td>1863</td>\n",
       "      <td>398</td>\n",
       "      <td>1465</td>\n",
       "      <td>20044</td>\n",
       "      <td>...</td>\n",
       "      <td>639</td>\n",
       "      <td>2882</td>\n",
       "      <td>11439</td>\n",
       "      <td>69.56</td>\n",
       "      <td>47050</td>\n",
       "      <td>38700</td>\n",
       "      <td>158</td>\n",
       "      <td>32333</td>\n",
       "      <td>6209</td>\n",
       "      <td>8350</td>\n",
       "    </tr>\n",
       "    <tr>\n",
       "      <th>3</th>\n",
       "      <td>3603704</td>\n",
       "      <td>79500US3603704</td>\n",
       "      <td>NYC-Bronx Community District 11--Pelham Parkwa...</td>\n",
       "      <td>44922</td>\n",
       "      <td>32003</td>\n",
       "      <td>141</td>\n",
       "      <td>1478</td>\n",
       "      <td>474</td>\n",
       "      <td>1004</td>\n",
       "      <td>17917</td>\n",
       "      <td>...</td>\n",
       "      <td>1001</td>\n",
       "      <td>2722</td>\n",
       "      <td>10197</td>\n",
       "      <td>71.24</td>\n",
       "      <td>44922</td>\n",
       "      <td>37237</td>\n",
       "      <td>122</td>\n",
       "      <td>31278</td>\n",
       "      <td>5837</td>\n",
       "      <td>7685</td>\n",
       "    </tr>\n",
       "    <tr>\n",
       "      <th>4</th>\n",
       "      <td>3603705</td>\n",
       "      <td>79500US3603705</td>\n",
       "      <td>NYC-Bronx Community District 3 &amp; 6--Belmont, N...</td>\n",
       "      <td>57556</td>\n",
       "      <td>35503</td>\n",
       "      <td>88</td>\n",
       "      <td>1297</td>\n",
       "      <td>651</td>\n",
       "      <td>646</td>\n",
       "      <td>15847</td>\n",
       "      <td>...</td>\n",
       "      <td>1385</td>\n",
       "      <td>3312</td>\n",
       "      <td>18741</td>\n",
       "      <td>61.68</td>\n",
       "      <td>57556</td>\n",
       "      <td>42576</td>\n",
       "      <td>88</td>\n",
       "      <td>33408</td>\n",
       "      <td>9080</td>\n",
       "      <td>14980</td>\n",
       "    </tr>\n",
       "  </tbody>\n",
       "</table>\n",
       "<p>5 rows × 31 columns</p>\n",
       "</div>"
      ],
      "text/plain": [
       "      FIPS Geographic Identifier  \\\n",
       "0  3603701        79500US3603701   \n",
       "1  3603702        79500US3603702   \n",
       "2  3603703        79500US3603703   \n",
       "3  3603704        79500US3603704   \n",
       "4  3603705        79500US3603705   \n",
       "\n",
       "                                     Qualifying Name  Households  \\\n",
       "0  NYC-Bronx Community District 8--Riverdale, New...       42035   \n",
       "1  NYC-Bronx Community District 12--Wakefield, Ne...       44830   \n",
       "2  NYC-Bronx Community District 10--Co-op City, N...       47050   \n",
       "3  NYC-Bronx Community District 11--Pelham Parkwa...       44922   \n",
       "4  NYC-Bronx Community District 3 & 6--Belmont, N...       57556   \n",
       "\n",
       "   Households: With An Internet Subscription  Households: Dial-Up Alone  \\\n",
       "0                                      31795                        444   \n",
       "1                                      32243                        178   \n",
       "2                                      32729                        158   \n",
       "3                                      32003                        141   \n",
       "4                                      35503                         88   \n",
       "\n",
       "   Households: Dsl  Households: With Mobile Broadband  \\\n",
       "0             2813                                946   \n",
       "1              849                                405   \n",
       "2             1863                                398   \n",
       "3             1478                                474   \n",
       "4             1297                                651   \n",
       "\n",
       "   Households: Without Mobile Broadband  Households: Cable Modem  \\\n",
       "0                                  1867                    19178   \n",
       "1                                   444                    18653   \n",
       "2                                  1465                    20044   \n",
       "3                                  1004                    17917   \n",
       "4                                   646                    15847   \n",
       "\n",
       "            ...             Households: Mobile Broadband Alone or With Dialup  \\\n",
       "0           ...                                                          2168   \n",
       "1           ...                                                           928   \n",
       "2           ...                                                           639   \n",
       "3           ...                                                          1001   \n",
       "4           ...                                                          1385   \n",
       "\n",
       "   Households: Internet Access Without A Subscription  \\\n",
       "0                                               2119    \n",
       "1                                               1891    \n",
       "2                                               2882    \n",
       "3                                               2722    \n",
       "4                                               3312    \n",
       "\n",
       "   Households: No Internet Access  \\\n",
       "0                            8121   \n",
       "1                           10696   \n",
       "2                           11439   \n",
       "3                           10197   \n",
       "4                           18741   \n",
       "\n",
       "   % Households: With An Internet Subscription  Households.1  \\\n",
       "0                                        75.64         42035   \n",
       "1                                        71.92         44830   \n",
       "2                                        69.56         47050   \n",
       "3                                        71.24         44922   \n",
       "4                                        61.68         57556   \n",
       "\n",
       "   Households: Has A Computer  \\\n",
       "0                       35048   \n",
       "1                       36700   \n",
       "2                       38700   \n",
       "3                       37237   \n",
       "4                       42576   \n",
       "\n",
       "   Households: With Dial-Up Internet Subscription Alone  \\\n",
       "0                                                404      \n",
       "1                                                178      \n",
       "2                                                158      \n",
       "3                                                122      \n",
       "4                                                 88      \n",
       "\n",
       "   Households: With A Broadband Internet Subscription  \\\n",
       "0                                              30943    \n",
       "1                                              31435    \n",
       "2                                              32333    \n",
       "3                                              31278    \n",
       "4                                              33408    \n",
       "\n",
       "   Households: Without An Internet Subscription  Households: No Computer  \n",
       "0                                          3701                     6987  \n",
       "1                                          5087                     8130  \n",
       "2                                          6209                     8350  \n",
       "3                                          5837                     7685  \n",
       "4                                          9080                    14980  \n",
       "\n",
       "[5 rows x 31 columns]"
      ]
     },
     "execution_count": 21,
     "metadata": {},
     "output_type": "execute_result"
    }
   ],
   "source": [
    "df_infr.head()"
   ]
  },
  {
   "cell_type": "code",
   "execution_count": 23,
   "metadata": {
    "collapsed": false
   },
   "outputs": [
    {
     "data": {
      "text/plain": [
       "FIPS                                                       59\n",
       "Geographic Identifier                                      59\n",
       "Qualifying Name                                            59\n",
       "Households                                                 59\n",
       "Households: With An Internet Subscription                  59\n",
       "Households: Dial-Up Alone                                  59\n",
       "Households: Dsl                                            59\n",
       "Households: With Mobile Broadband                          59\n",
       "Households: Without Mobile Broadband                       59\n",
       "Households: Cable Modem                                    59\n",
       "Households: With Mobile Broadband.1                        59\n",
       "Households: Without Mobile Broadband.1                     59\n",
       "Households: Fiber-Optic                                    59\n",
       "Households: With Mobile Broadband.2                        59\n",
       "Households: Without Mobile Broadband.2                     59\n",
       "Households: Satellite Internet Service                     59\n",
       "Households: With Mobile Broadband.3                        59\n",
       "Households: Without Mobile Broadband.3                     59\n",
       "Households: Two or More Fixed Broadband Types, or Other    59\n",
       "Households: With Mobile Broadband.4                        59\n",
       "Households: Without Mobile Broadband.4                     59\n",
       "Households: Mobile Broadband Alone or With Dialup          59\n",
       "Households: Internet Access Without A Subscription         59\n",
       "Households: No Internet Access                             59\n",
       "% Households: With An Internet Subscription                59\n",
       "Households.1                                               59\n",
       "Households: Has A Computer                                 59\n",
       "Households: With Dial-Up Internet Subscription Alone       59\n",
       "Households: With A Broadband Internet Subscription         59\n",
       "Households: Without An Internet Subscription               59\n",
       "Households: No Computer                                    59\n",
       "dtype: int64"
      ]
     },
     "execution_count": 23,
     "metadata": {},
     "output_type": "execute_result"
    }
   ],
   "source": [
    "# Check variables in file\n",
    "df_infr.count()"
   ]
  },
  {
   "cell_type": "code",
   "execution_count": 24,
   "metadata": {
    "collapsed": false
   },
   "outputs": [
    {
     "data": {
      "text/plain": [
       "59"
      ]
     },
     "execution_count": 24,
     "metadata": {},
     "output_type": "execute_result"
    }
   ],
   "source": [
    "# How many community districts are in file? \n",
    "df_infr['Qualifying Name'].count()"
   ]
  },
  {
   "cell_type": "code",
   "execution_count": 25,
   "metadata": {
    "collapsed": true
   },
   "outputs": [],
   "source": [
    "# Manipulate data to get some information on internet/broadband useage by Community District\n",
    "# Aggregate the mobile subscription data\n",
    "df_infr['with_mobile'] = df_infr['Households: With Mobile Broadband'] + \\\n",
    "                         df_infr['Households: With Mobile Broadband.1'] + \\\n",
    "                         df_infr['Households: With Mobile Broadband.2'] + \\\n",
    "                         df_infr['Households: With Mobile Broadband.3'] + \\\n",
    "                         df_infr['Households: With Mobile Broadband.4'] + \\\n",
    "                         df_infr['Households: Mobile Broadband Alone or With Dialup'] \n",
    "\n",
    "df_infr['no_mobile'] = df_infr['Households: Without Mobile Broadband'] + \\\n",
    "                       df_infr['Households: Without Mobile Broadband.1'] + \\\n",
    "                       df_infr['Households: Without Mobile Broadband.2'] + \\\n",
    "                       df_infr['Households: Without Mobile Broadband.3'] + \\\n",
    "                       df_infr['Households: Without Mobile Broadband.4'] + \\\n",
    "                       df_infr['Households: Internet Access Without A Subscription'] + \\\n",
    "                       df_infr['Households: No Internet Access'] + \\\n",
    "                       df_infr['Households: Dial-Up Alone']"
   ]
  },
  {
   "cell_type": "code",
   "execution_count": 26,
   "metadata": {
    "collapsed": true
   },
   "outputs": [],
   "source": [
    "# Aggregate internet type by high and low connections\n",
    "df_infr['high_inter'] = df_infr['Households: Dsl'] + \\\n",
    "                        df_infr['Households: Cable Modem'] + \\\n",
    "                        df_infr['Households: Fiber-Optic'] + \\\n",
    "                        df_infr['Households: Satellite Internet Service'] + \\\n",
    "                        df_infr['Households: Two or More Fixed Broadband Types, or Other']\n",
    "\n",
    "df_infr['low_inter'] = df_infr['Households: Dial-Up Alone'] + \\\n",
    "                       df_infr['Households: Mobile Broadband Alone or With Dialup'] + \\\n",
    "                       df_infr['Households: Internet Access Without A Subscription']"
   ]
  },
  {
   "cell_type": "code",
   "execution_count": 27,
   "metadata": {
    "collapsed": false
   },
   "outputs": [
    {
     "data": {
      "text/html": [
       "<div>\n",
       "<table border=\"1\" class=\"dataframe\">\n",
       "  <thead>\n",
       "    <tr style=\"text-align: right;\">\n",
       "      <th></th>\n",
       "      <th>Qualifying Name</th>\n",
       "      <th>high_inter</th>\n",
       "      <th>low_inter</th>\n",
       "      <th>with_mobile</th>\n",
       "      <th>no_mobile</th>\n",
       "    </tr>\n",
       "  </thead>\n",
       "  <tbody>\n",
       "    <tr>\n",
       "      <th>0</th>\n",
       "      <td>NYC-Bronx Community District 8--Riverdale, New...</td>\n",
       "      <td>29183</td>\n",
       "      <td>4731</td>\n",
       "      <td>17527</td>\n",
       "      <td>24508</td>\n",
       "    </tr>\n",
       "    <tr>\n",
       "      <th>1</th>\n",
       "      <td>NYC-Bronx Community District 12--Wakefield, Ne...</td>\n",
       "      <td>31137</td>\n",
       "      <td>2997</td>\n",
       "      <td>11414</td>\n",
       "      <td>33416</td>\n",
       "    </tr>\n",
       "    <tr>\n",
       "      <th>2</th>\n",
       "      <td>NYC-Bronx Community District 10--Co-op City, N...</td>\n",
       "      <td>31932</td>\n",
       "      <td>3679</td>\n",
       "      <td>12064</td>\n",
       "      <td>34986</td>\n",
       "    </tr>\n",
       "    <tr>\n",
       "      <th>3</th>\n",
       "      <td>NYC-Bronx Community District 11--Pelham Parkwa...</td>\n",
       "      <td>30861</td>\n",
       "      <td>3864</td>\n",
       "      <td>11749</td>\n",
       "      <td>33173</td>\n",
       "    </tr>\n",
       "    <tr>\n",
       "      <th>4</th>\n",
       "      <td>NYC-Bronx Community District 3 &amp; 6--Belmont, N...</td>\n",
       "      <td>34030</td>\n",
       "      <td>4785</td>\n",
       "      <td>16292</td>\n",
       "      <td>41264</td>\n",
       "    </tr>\n",
       "  </tbody>\n",
       "</table>\n",
       "</div>"
      ],
      "text/plain": [
       "                                     Qualifying Name  high_inter  low_inter  \\\n",
       "0  NYC-Bronx Community District 8--Riverdale, New...       29183       4731   \n",
       "1  NYC-Bronx Community District 12--Wakefield, Ne...       31137       2997   \n",
       "2  NYC-Bronx Community District 10--Co-op City, N...       31932       3679   \n",
       "3  NYC-Bronx Community District 11--Pelham Parkwa...       30861       3864   \n",
       "4  NYC-Bronx Community District 3 & 6--Belmont, N...       34030       4785   \n",
       "\n",
       "   with_mobile  no_mobile  \n",
       "0        17527      24508  \n",
       "1        11414      33416  \n",
       "2        12064      34986  \n",
       "3        11749      33173  \n",
       "4        16292      41264  "
      ]
     },
     "execution_count": 27,
     "metadata": {},
     "output_type": "execute_result"
    }
   ],
   "source": [
    "# Save data frame \n",
    "df_infr = df_infr[['Qualifying Name', 'high_inter', 'low_inter','with_mobile', 'no_mobile']]\n",
    "df_infr.head()"
   ]
  },
  {
   "cell_type": "markdown",
   "metadata": {},
   "source": [
    "# 5. Inform your results by linking datasets\n",
    "Now you want to link the three data frames to produce summary statistics for Community Districts which show a high number of complaints vs. Community Districts which show a lower number of complaints. Please keep in mind that the identifiers used for the linkage (Community Dostrict IDs) should be recored the same way. Use regular expressions to harmonize the identifiers if possible. The identifiers should look like BK01, BK02, etc.\n",
    "https://docs.python.org/2/library/re.html"
   ]
  },
  {
   "cell_type": "code",
   "execution_count": null,
   "metadata": {
    "collapsed": false
   },
   "outputs": [],
   "source": [
    "# Harmonize identifier of dataframe 1\n",
    "df_sample['Community Board'].value_counts()"
   ]
  },
  {
   "cell_type": "code",
   "execution_count": null,
   "metadata": {
    "collapsed": true
   },
   "outputs": [],
   "source": [
    "df_sample['Community Board'] = df_sample['Community Board'].str.replace['MA+.*','MN']\n",
    "df_sample['Community Board'] = df_sample['Community Board'].str.replace['ST+.*','SI']\n",
    "df_sample['Community Board'] = df_sample['Community Board'].str.replace['BROO+.*','BK']\n",
    "df_sample['Community Board'] = df_sample['Community Board'].str.replace['QU+.*','QN']\n",
    "df_sample['Community Board'] = df_sample['Community Board'].str.replace['BRON+.*','BX']\n",
    "\n",
    "df_sample['Community Board New'] = df_sample['Community Board'].str.extract('([A-Z]{2,})', expand = True)\n",
    "                                + df_sample['Community Board'].str.extract('([0-9]\\d{0,})', expand = True)\n"
   ]
  },
  {
   "cell_type": "code",
   "execution_count": null,
   "metadata": {
    "collapsed": true
   },
   "outputs": [],
   "source": [
    "# Harmonize identifier of dataframe 2\n",
    "df_pop['cd_id'].unique()"
   ]
  },
  {
   "cell_type": "code",
   "execution_count": null,
   "metadata": {
    "collapsed": true
   },
   "outputs": [],
   "source": [
    "df_pop.replace('MN11111', 'MN11', inplace=True)"
   ]
  },
  {
   "cell_type": "code",
   "execution_count": null,
   "metadata": {
    "collapsed": false
   },
   "outputs": [],
   "source": [
    "# Harmonize identifier of dataframe 3\n",
    "df_infr['Qualifying Name'].value_counts()"
   ]
  },
  {
   "cell_type": "code",
   "execution_count": null,
   "metadata": {
    "collapsed": true
   },
   "outputs": [],
   "source": [
    "# combine names and numbers\n",
    "df_infr['Qualifying Name'] = df_infr['Qualifying Name New'] + df_infr['number']\n",
    "df_infr[['Qualifying Name New', 'Qualifying Name', 'number']]"
   ]
  },
  {
   "cell_type": "code",
   "execution_count": null,
   "metadata": {
    "collapsed": false
   },
   "outputs": [],
   "source": [
    "# Link the 3 dataframes\n",
    "df_ext = pd.merge(left = df_pop, right = df_infr, how = 'left', left_on = 'cd_id', right_on = 'Qualigying Name')\n",
    "df.ext.head()"
   ]
  },
  {
   "cell_type": "code",
   "execution_count": null,
   "metadata": {
    "collapsed": true
   },
   "outputs": [],
   "source": [
    "# Are the demographics and infrastructure different in Community Districts that show more complaints than others?"
   ]
  }
 ],
 "metadata": {
  "celltoolbar": "Raw Cell Format",
  "kernelspec": {
   "display_name": "PUI2016_Python2",
   "language": "python",
   "name": "pui2016_python2"
  },
  "language_info": {
   "codemirror_mode": {
    "name": "ipython",
    "version": 2
   },
   "file_extension": ".py",
   "mimetype": "text/x-python",
   "name": "python",
   "nbconvert_exporter": "python",
   "pygments_lexer": "ipython2",
   "version": "2.7.12"
  }
 },
 "nbformat": 4,
 "nbformat_minor": 0
}
